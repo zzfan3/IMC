{
 "cells": [
  {
   "cell_type": "code",
   "execution_count": 11,
   "metadata": {},
   "outputs": [],
   "source": [
    "import h5py\n",
    "import pandas as pd"
   ]
  },
  {
   "cell_type": "code",
   "execution_count": 12,
   "metadata": {},
   "outputs": [],
   "source": [
    "data = h5py.File('HMDB51_HOG_MBH(1).mat')"
   ]
  },
  {
   "cell_type": "code",
   "execution_count": 13,
   "metadata": {},
   "outputs": [
    {
     "data": {
      "text/plain": [
       "(6718,)"
      ]
     },
     "execution_count": 13,
     "metadata": {},
     "output_type": "execute_result"
    }
   ],
   "source": [
    "data['gt'][0].shape"
   ]
  },
  {
   "cell_type": "code",
   "execution_count": 14,
   "metadata": {},
   "outputs": [
    {
     "data": {
      "text/plain": [
       "array([0.17273019, 0.20605876, 0.20056338, ..., 0.18764904, 0.06565138,\n",
       "       0.23765925])"
      ]
     },
     "execution_count": 14,
     "metadata": {},
     "output_type": "execute_result"
    }
   ],
   "source": [
    "data['x1'][0]"
   ]
  },
  {
   "cell_type": "code",
   "execution_count": 15,
   "metadata": {},
   "outputs": [
    {
     "data": {
      "text/plain": [
       "(6718,)"
      ]
     },
     "execution_count": 15,
     "metadata": {},
     "output_type": "execute_result"
    }
   ],
   "source": [
    "data['x2'][0].shape"
   ]
  },
  {
   "cell_type": "code",
   "execution_count": 16,
   "metadata": {},
   "outputs": [],
   "source": [
    "from sklearn.model_selection import train_test_split\n",
    "import numpy as np"
   ]
  },
  {
   "cell_type": "code",
   "execution_count": 17,
   "metadata": {},
   "outputs": [],
   "source": [
    "x=np.arange(6718)"
   ]
  },
  {
   "cell_type": "code",
   "execution_count": 9,
   "metadata": {},
   "outputs": [],
   "source": [
    "x_list_train,x_list_test,y_train,y_test = train_test_split(x,data['gt'][0],test_size=0.1, random_state=0)"
   ]
  },
  {
   "cell_type": "code",
   "execution_count": 22,
   "metadata": {},
   "outputs": [],
   "source": [
    "x_list_train,x_list_val,y_train,y_val = train_test_split(x,data['gt'][0],test_size=0.3, random_state=2)"
   ]
  },
  {
   "cell_type": "code",
   "execution_count": 11,
   "metadata": {},
   "outputs": [],
   "source": [
    "train_x1=data['x1'][:].T[x_list_train].T"
   ]
  },
  {
   "cell_type": "code",
   "execution_count": 12,
   "metadata": {},
   "outputs": [],
   "source": [
    "train_x2=data['x2'][:].T[x_list_train].T"
   ]
  },
  {
   "cell_type": "code",
   "execution_count": 13,
   "metadata": {},
   "outputs": [],
   "source": [
    "val_x1=data['x1'][:].T[x_list_val].T\n",
    "val_x2=data['x2'][:].T[x_list_val].T\n",
    "test_x1=data['x1'][:].T[x_list_test].T\n",
    "test_x2=data['x2'][:].T[x_list_test].T"
   ]
  },
  {
   "cell_type": "code",
   "execution_count": 15,
   "metadata": {},
   "outputs": [
    {
     "data": {
      "text/plain": [
       "array([[ 0.06906455,  0.05330331, -0.08599034, ..., -0.09208001,\n",
       "         0.03572883, -0.14562097],\n",
       "       [-0.10679135,  0.03838287,  0.02621758, ...,  0.05943032,\n",
       "        -0.17307802, -0.03732678],\n",
       "       [-0.13488982, -0.18117975,  0.16252514, ..., -0.23505311,\n",
       "         0.09484051, -0.04326271],\n",
       "       ...,\n",
       "       [-0.0255236 , -0.01726658, -0.0040033 , ...,  0.00845278,\n",
       "         0.01438748, -0.01074661],\n",
       "       [-0.00847929, -0.00817668, -0.00519591, ..., -0.0303195 ,\n",
       "         0.00390376,  0.00112585],\n",
       "       [-0.02080855,  0.02618384, -0.01112381, ...,  0.01094801,\n",
       "        -0.00420221, -0.02470179]])"
      ]
     },
     "execution_count": 15,
     "metadata": {},
     "output_type": "execute_result"
    }
   ],
   "source": [
    "train_x1"
   ]
  },
  {
   "cell_type": "code",
   "execution_count": 23,
   "metadata": {},
   "outputs": [],
   "source": [
    "train_data={'x1':x_list_train,'x2':x_list_train,'gt':y_train}\n",
    "train_data = pd.DataFrame(train_data)\n",
    "train_data.to_csv('hmdb/train_data.csv')"
   ]
  },
  {
   "cell_type": "code",
   "execution_count": 24,
   "metadata": {},
   "outputs": [],
   "source": [
    "val_data={'x1':x_list_val,'x2':x_list_val,'gt':y_val}\n",
    "val_data = pd.DataFrame(val_data)\n",
    "val_data.to_csv('hmdb/val_data.csv')"
   ]
  },
  {
   "cell_type": "code",
   "execution_count": 18,
   "metadata": {},
   "outputs": [],
   "source": [
    "test_data={'x1':x_list_test,'x2':x_list_test,'gt':y_test}\n",
    "test_data = pd.DataFrame(val_data)\n",
    "test_data.to_csv('hmdb/test_data.csv')"
   ]
  },
  {
   "cell_type": "code",
   "execution_count": 17,
   "metadata": {},
   "outputs": [],
   "source": [
    "t=np.load('hmdb/train_data.npz')"
   ]
  },
  {
   "cell_type": "code",
   "execution_count": 18,
   "metadata": {},
   "outputs": [
    {
     "name": "stdout",
     "output_type": "stream",
     "text": [
      "(4836,)\n",
      "(4836,)\n",
      "(4836,)\n"
     ]
    }
   ],
   "source": [
    "print(t['x1'].shape)\n",
    "print(t['x2'].shape)\n",
    "print(t['gt'].shape)"
   ]
  },
  {
   "cell_type": "code",
   "execution_count": 19,
   "metadata": {},
   "outputs": [
    {
     "name": "stdout",
     "output_type": "stream",
     "text": [
      "(1210,)\n",
      "(1210,)\n",
      "(1210,)\n"
     ]
    }
   ],
   "source": [
    "t=np.load('hmdb/val_data.npz')\n",
    "print(t['x1'].shape)\n",
    "print(t['x2'].shape)\n",
    "print(t['gt'].shape)"
   ]
  },
  {
   "cell_type": "code",
   "execution_count": 20,
   "metadata": {},
   "outputs": [
    {
     "data": {
      "text/plain": [
       "()"
      ]
     },
     "execution_count": 20,
     "metadata": {},
     "output_type": "execute_result"
    }
   ],
   "source": [
    "t['x1'][:][0].shape"
   ]
  },
  {
   "cell_type": "code",
   "execution_count": 25,
   "metadata": {},
   "outputs": [
    {
     "name": "stdout",
     "output_type": "stream",
     "text": [
      "(1000, 6718)\n",
      "(1000, 6718)\n",
      "(1, 6718)\n"
     ]
    }
   ],
   "source": [
    "t=np.load('hmdb51.npz')\n",
    "print(t['x1'].shape)\n",
    "print(t['x2'].shape)\n",
    "print(t['gt'].shape)"
   ]
  },
  {
   "cell_type": "code",
   "execution_count": 29,
   "metadata": {},
   "outputs": [
    {
     "data": {
      "text/plain": [
       "0.0"
      ]
     },
     "execution_count": 29,
     "metadata": {},
     "output_type": "execute_result"
    }
   ],
   "source": [
    "t['gt'][0][0]-1"
   ]
  }
 ],
 "metadata": {
  "kernelspec": {
   "display_name": "pytorch",
   "language": "python",
   "name": "python3"
  },
  "language_info": {
   "codemirror_mode": {
    "name": "ipython",
    "version": 3
   },
   "file_extension": ".py",
   "mimetype": "text/x-python",
   "name": "python",
   "nbconvert_exporter": "python",
   "pygments_lexer": "ipython3",
   "version": "3.10.13"
  }
 },
 "nbformat": 4,
 "nbformat_minor": 2
}
